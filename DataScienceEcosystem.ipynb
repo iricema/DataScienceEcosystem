{
 "cells": [
  {
   "cell_type": "markdown",
   "id": "f10eaaed",
   "metadata": {},
   "source": [
    "<h1> Data Science Tools and Ecosystem </h1>"
   ]
  },
  {
   "cell_type": "markdown",
   "id": "cbf50200",
   "metadata": {},
   "source": [
    "***"
   ]
  },
  {
   "cell_type": "markdown",
   "id": "20557566",
   "metadata": {},
   "source": [
    "<h2> In this notebook, Data Science Tools and Ecosystem are summarized. </h2>"
   ]
  },
  {
   "cell_type": "markdown",
   "id": "f820bd1f",
   "metadata": {},
   "source": [
    "<h3> Objectives: </h3>"
   ]
  },
  {
   "cell_type": "markdown",
   "id": "7d552f77",
   "metadata": {},
   "source": [
    "- List popular languages for Data Science.\n",
    "- List popular libraries for Data Science.\n",
    "- List popular tools for Data Science.\n",
    "- Examples involving arithmetic expressions using the Python."
   ]
  },
  {
   "cell_type": "markdown",
   "id": "b45bc977",
   "metadata": {},
   "source": [
    "<h3> Some of the popular languages that Data Scientists use are: </h3>"
   ]
  },
  {
   "cell_type": "markdown",
   "id": "d29de653",
   "metadata": {},
   "source": [
    "1. Python\n",
    "2. R\n",
    "3. SQL\n",
    "4. Scala\n",
    "5. Java\n",
    "6. C++\n",
    "7. Julia"
   ]
  },
  {
   "cell_type": "markdown",
   "id": "330ccffe",
   "metadata": {},
   "source": [
    "<h3> Some of the commonly used libraries used by Data Scientists include: </h3>"
   ]
  },
  {
   "cell_type": "markdown",
   "id": "180ff238",
   "metadata": {},
   "source": [
    "1. Pandas\n",
    "2. Numpy\n",
    "3. Matplotlib\n",
    "4. Scikit-Learn\n",
    "5. TensorFlow\n",
    "6. Apache Spark\n",
    "7. ggplot2"
   ]
  },
  {
   "cell_type": "markdown",
   "id": "2415e254",
   "metadata": {},
   "source": [
    "<h3> Some of the Data Science Tools most commonly used by Data Scientists are: </h3>"
   ]
  },
  {
   "cell_type": "markdown",
   "id": "b23a8495",
   "metadata": {},
   "source": [
    "| Data Science Tools |\n",
    "| :----------------: |\n",
    "|Jupyter Notebooks|\n",
    "| RStudio |\n",
    "| MySQL |\n",
    "| Apache Airflow |"
   ]
  },
  {
   "cell_type": "markdown",
   "id": "6498fbb1",
   "metadata": {},
   "source": [
    "<h3> Below are a few examples of evaluating arithmetic expressions in Python </h3>"
   ]
  },
  {
   "cell_type": "code",
   "execution_count": 5,
   "id": "be7e5c02",
   "metadata": {},
   "outputs": [
    {
     "data": {
      "text/plain": [
       "17"
      ]
     },
     "execution_count": 5,
     "metadata": {},
     "output_type": "execute_result"
    }
   ],
   "source": [
    "(3*4)+5"
   ]
  },
  {
   "cell_type": "code",
   "execution_count": 6,
   "id": "1ab775c3",
   "metadata": {},
   "outputs": [
    {
     "data": {
      "text/plain": [
       "3.3333333333333335"
      ]
     },
     "execution_count": 6,
     "metadata": {},
     "output_type": "execute_result"
    }
   ],
   "source": [
    "# This will convert 200 minutes to hours by diving by 60\n",
    "200/60"
   ]
  },
  {
   "cell_type": "markdown",
   "id": "9da5490c",
   "metadata": {},
   "source": [
    "<h2> Author </h2>\n",
    "Iris Marrufo"
   ]
  },
  {
   "cell_type": "code",
   "execution_count": null,
   "id": "f2974664",
   "metadata": {},
   "outputs": [],
   "source": []
  }
 ],
 "metadata": {
  "kernelspec": {
   "display_name": "Python 3 (ipykernel)",
   "language": "python",
   "name": "python3"
  },
  "language_info": {
   "codemirror_mode": {
    "name": "ipython",
    "version": 3
   },
   "file_extension": ".py",
   "mimetype": "text/x-python",
   "name": "python",
   "nbconvert_exporter": "python",
   "pygments_lexer": "ipython3",
   "version": "3.10.9"
  }
 },
 "nbformat": 4,
 "nbformat_minor": 5
}
